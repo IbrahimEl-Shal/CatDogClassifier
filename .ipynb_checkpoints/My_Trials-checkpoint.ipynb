{
 "cells": [
  {
   "cell_type": "code",
   "execution_count": 1,
   "metadata": {},
   "outputs": [],
   "source": [
    "import pandas as pd\n",
    "import os \n",
    "import torch"
   ]
  },
  {
   "cell_type": "code",
   "execution_count": 2,
   "metadata": {},
   "outputs": [],
   "source": [
    "import torchvision.transforms as transforms"
   ]
  },
  {
   "cell_type": "code",
   "execution_count": 3,
   "metadata": {},
   "outputs": [],
   "source": [
    "import torchvision.datasets as datasets"
   ]
  },
  {
   "cell_type": "code",
   "execution_count": 4,
   "metadata": {},
   "outputs": [],
   "source": [
    "# number of subprocesses to use for data loading\n",
    "num_workers = 0\n",
    "# how many samples per batch to load\n",
    "batch_size = 64"
   ]
  },
  {
   "cell_type": "code",
   "execution_count": 6,
   "metadata": {},
   "outputs": [],
   "source": [
    "# define training and test data directories\n",
    "\n",
    "train_dir = 'C:/Users/ihelshal/Documents/Python Scripts/CatDogClassifier/Data/training_set/'\n",
    "test_dir = 'C:/Users/ihelshal/Documents/Python Scripts/CatDogClassifier/Data/test_set/'\n",
    "\n",
    "#create transformers\n",
    "image_size = (224, 224)\n",
    "mean = [0.485, 0.456, 0.406]\n",
    "std  = [0.229, 0.224, 0.225]\n",
    "train_transform = transforms.Compose([\n",
    "                                transforms.Resize(image_size), \n",
    "                                                    transforms.ToTensor(), \n",
    "                                transforms.Normalize(mean, std)])\n",
    "test_transforms = transforms.Compose([\n",
    "                                transforms.Resize(image_size), \n",
    "                                transforms.ToTensor(), \n",
    "                                transforms.Normalize(mean, std)])\n",
    "\n",
    "\n",
    " ## read data set using the custom class\n",
    "train_dataset = datasets.ImageFolder(root=train_dir, transform=train_transform)\n",
    "dev_dataset = datasets.ImageFolder(root=test_dir, transform=test_transforms)\n",
    "train_loader = torch.utils.data.DataLoader(train_dataset, batch_size, shuffle=True, num_workers=num_workers)\n",
    "test_loader = torch.utils.data.DataLoader(dev_dataset, 1, shuffle=False)\n"
   ]
  },
  {
   "cell_type": "code",
   "execution_count": 9,
   "metadata": {},
   "outputs": [
    {
     "ename": "SyntaxError",
     "evalue": "invalid syntax (<ipython-input-9-9850560a692c>, line 2)",
     "output_type": "error",
     "traceback": [
      "\u001b[1;36m  File \u001b[1;32m\"<ipython-input-9-9850560a692c>\"\u001b[1;36m, line \u001b[1;32m2\u001b[0m\n\u001b[1;33m    print('Testing Dataset =',len(dev_dataset)\u001b[0m\n\u001b[1;37m    ^\u001b[0m\n\u001b[1;31mSyntaxError\u001b[0m\u001b[1;31m:\u001b[0m invalid syntax\n"
     ]
    }
   ],
   "source": [
    "print('training Dataset =',len(train_dataset))\n",
    "print('Testing Dataset =',len(dev_dataset))"
   ]
  },
  {
   "cell_type": "code",
   "execution_count": 6,
   "metadata": {},
   "outputs": [],
   "source": [
    "import sys\n",
    "#for batch_idx, (data, target) in enumerate(train_dataloader):\n",
    "#    print(target)\n",
    "#    if(batch_idx == 0):\n",
    "#        sys.exit(\"Age less than 18\")    \n",
    "    "
   ]
  },
  {
   "cell_type": "code",
   "execution_count": 8,
   "metadata": {},
   "outputs": [],
   "source": [
    "import os\n",
    "import torch\n",
    "import torch.nn as nn\n",
    "import torch.nn.functional as F\n",
    "import torch.optim as optim\n",
    "from torchvision import datasets, transforms\n",
    "import matplotlib.pyplot as plt\n",
    "import numpy\n",
    "from torch.utils.data import Dataset, DataLoader\n",
    "import glob\n",
    "from PIL import Image"
   ]
  },
  {
   "cell_type": "code",
   "execution_count": 9,
   "metadata": {},
   "outputs": [],
   "source": [
    "\n",
    "class CNN_1(nn.Module):\n",
    "    def __init__(self, input_size, n_feature, output_size):\n",
    "        super(CNN_1, self).__init__()\n",
    "        self.n_feature = n_feature\n",
    "        self.conv1 = nn.Conv2d(in_channels=3, out_channels=n_feature, kernel_size=5)\n",
    "        self.conv2 = nn.Conv2d(n_feature, n_feature, kernel_size=5)\n",
    "        self.fc1 = nn.Linear(n_feature*53*53, 50)\n",
    "        self.fc2 = nn.Linear(50, 10)\n",
    "        \n",
    "    def forward(self, x, verbose=False):\n",
    "        x = self.conv1(x)\n",
    "        x = F.relu(x)\n",
    "        x = F.max_pool2d(x, kernel_size=2)\n",
    "        x = self.conv2(x)\n",
    "        x = F.relu(x)\n",
    "        x = F.max_pool2d(x, kernel_size=2)\n",
    "        x = x.view(-1, self.n_feature*53*53)\n",
    "        x = self.fc1(x)\n",
    "        x = F.relu(x)\n",
    "        x = self.fc2(x)\n",
    "        x = F.log_softmax(x, dim=1)\n",
    "        return x\n",
    "\n",
    "class CNN_2(nn.Module):\n",
    "    def __init__(self, input_size, n_feature, output_size):\n",
    "        super(CNN_2, self).__init__()\n",
    "        self.n_feature = n_feature\n",
    "        self.conv1 = nn.Conv2d(in_channels=3, out_channels=32, kernel_size=5)\n",
    "        self.conv2 = nn.Conv2d(32, 64, kernel_size=5)\n",
    "        self.conv3 = nn.Conv2d(64, 128, kernel_size=5)\n",
    "        self.conv4 = nn.Conv2d(128, 128, kernel_size=5)\n",
    "        self.fc1 = nn.Linear(128*10*10, 50)\n",
    "        self.fc2 = nn.Linear(50, 2)\n",
    "       \n",
    "    def forward(self, x, verbose=False):\n",
    "        x = self.conv1(x)\n",
    "        x = F.relu(x)\n",
    "        x = F.max_pool2d(x, kernel_size=2)\n",
    "        x = self.conv2(x)\n",
    "        x = F.relu(x)\n",
    "        x = F.max_pool2d(x, kernel_size=2)\n",
    "        x = self.conv3(x)\n",
    "        x = F.relu(x)\n",
    "        x = F.max_pool2d(x, kernel_size=2)\n",
    "        x = self.conv4(x)\n",
    "        x = F.relu(x)\n",
    "        x = F.max_pool2d(x, kernel_size=2)       \n",
    "        x = x.view(-1, 128*10*10)\n",
    "        x = self.fc1(x)\n",
    "        x = F.relu(x)\n",
    "        x = self.fc2(x)\n",
    "        x = F.log_softmax(x, dim=1)\n",
    "        return x"
   ]
  },
  {
   "cell_type": "code",
   "execution_count": 10,
   "metadata": {},
   "outputs": [],
   "source": [
    "\n",
    "accuracy_list = []\n",
    "\n",
    "def train(epoch, model):\n",
    "    model.train()\n",
    "    for batch_idx, (data, target) in enumerate(train_loader):\n",
    "        \n",
    "        #print(data[0].shape)\n",
    "        optimizer.zero_grad()\n",
    "        output = model(data)\n",
    "        loss = F.nll_loss(output, target)\n",
    "        loss.backward()\n",
    "        optimizer.step()\n",
    "        if (batch_idx % 10 and  batch_idx >5):\n",
    "            print('Train Epoch: {} [{}/{} ({:.0f}%)]\\tLoss: {:.6f}'.format(\n",
    "                epoch, batch_idx * len(data), len(train_loader.dataset),\n",
    "                100. * batch_idx / len(train_loader), loss.item()))\n",
    "            \n",
    "def test(model):\n",
    "    model.eval()\n",
    "    test_loss = 0\n",
    "    correct = 0\n",
    "    for data, target in test_loader:\n",
    "        \n",
    "        output = model(data)\n",
    "        test_loss += F.nll_loss(output, target, reduction='sum').item() # sum up batch loss                                                               \n",
    "        pred = output.data.max(1, keepdim=True)[1] # get the index of the max log-probability                                                                 \n",
    "        correct += pred.eq(target.data.view_as(pred)).cpu().sum().item()\n",
    "\n",
    "    test_loss /= len(test_loader.dataset)\n",
    "    accuracy = 100. * correct / len(test_loader.dataset)\n",
    "    accuracy_list.append(accuracy)\n",
    "    print('\\nTest set: Average loss: {:.4f}, Accuracy: {}/{} ({:.0f}%)\\n'.format(\n",
    "        test_loss, correct, len(test_loader.dataset),\n",
    "        accuracy))\n"
   ]
  },
  {
   "cell_type": "code",
   "execution_count": 13,
   "metadata": {},
   "outputs": [
    {
     "name": "stdout",
     "output_type": "stream",
     "text": [
      "Number of parameters: 281714\n",
      "Number of parameters: 1308504\n",
      "Train Epoch: 0 [384/8005 (5%)]\tLoss: 0.110727\n",
      "Train Epoch: 0 [448/8005 (6%)]\tLoss: 0.040136\n",
      "Train Epoch: 0 [512/8005 (6%)]\tLoss: 0.016147\n",
      "Train Epoch: 0 [576/8005 (7%)]\tLoss: 0.006939\n",
      "Train Epoch: 0 [704/8005 (9%)]\tLoss: 0.002293\n",
      "Train Epoch: 0 [768/8005 (10%)]\tLoss: 0.002563\n",
      "Train Epoch: 0 [832/8005 (10%)]\tLoss: 0.001711\n",
      "Train Epoch: 0 [896/8005 (11%)]\tLoss: 0.001765\n",
      "Train Epoch: 0 [960/8005 (12%)]\tLoss: 0.001865\n",
      "Train Epoch: 0 [1024/8005 (13%)]\tLoss: 0.003621\n",
      "Train Epoch: 0 [1088/8005 (13%)]\tLoss: 0.001559\n",
      "Train Epoch: 0 [1152/8005 (14%)]\tLoss: 0.001414\n",
      "Train Epoch: 0 [1216/8005 (15%)]\tLoss: 0.001041\n",
      "Train Epoch: 0 [1344/8005 (17%)]\tLoss: 0.001049\n",
      "Train Epoch: 0 [1408/8005 (17%)]\tLoss: 0.000852\n",
      "Train Epoch: 0 [1472/8005 (18%)]\tLoss: 0.000505\n",
      "Train Epoch: 0 [1536/8005 (19%)]\tLoss: 0.000963\n",
      "Train Epoch: 0 [1600/8005 (20%)]\tLoss: 0.001021\n",
      "Train Epoch: 0 [1664/8005 (21%)]\tLoss: 0.000941\n",
      "Train Epoch: 0 [1728/8005 (21%)]\tLoss: 0.000776\n",
      "Train Epoch: 0 [1792/8005 (22%)]\tLoss: 0.001119\n",
      "Train Epoch: 0 [1856/8005 (23%)]\tLoss: 0.000991\n",
      "Train Epoch: 0 [1984/8005 (25%)]\tLoss: 0.000837\n",
      "Train Epoch: 0 [2048/8005 (25%)]\tLoss: 0.000493\n",
      "Train Epoch: 0 [2112/8005 (26%)]\tLoss: 0.000715\n",
      "Train Epoch: 0 [2176/8005 (27%)]\tLoss: 0.000742\n",
      "Train Epoch: 0 [2240/8005 (28%)]\tLoss: 0.000473\n",
      "Train Epoch: 0 [2304/8005 (29%)]\tLoss: 0.000746\n",
      "Train Epoch: 0 [2368/8005 (29%)]\tLoss: 0.000450\n",
      "Train Epoch: 0 [2432/8005 (30%)]\tLoss: 0.000740\n",
      "Train Epoch: 0 [2496/8005 (31%)]\tLoss: 0.000638\n",
      "Train Epoch: 0 [2624/8005 (33%)]\tLoss: 0.000583\n",
      "Train Epoch: 0 [2688/8005 (33%)]\tLoss: 0.000350\n",
      "Train Epoch: 0 [2752/8005 (34%)]\tLoss: 0.000589\n",
      "Train Epoch: 0 [2816/8005 (35%)]\tLoss: 0.000412\n",
      "Train Epoch: 0 [2880/8005 (36%)]\tLoss: 0.000498\n",
      "Train Epoch: 0 [2944/8005 (37%)]\tLoss: 0.000499\n",
      "Train Epoch: 0 [3008/8005 (37%)]\tLoss: 0.000567\n",
      "Train Epoch: 0 [3072/8005 (38%)]\tLoss: 0.000583\n",
      "Train Epoch: 0 [3136/8005 (39%)]\tLoss: 0.000266\n",
      "Train Epoch: 0 [3264/8005 (40%)]\tLoss: 0.000374\n",
      "Train Epoch: 0 [3328/8005 (41%)]\tLoss: 0.000571\n",
      "Train Epoch: 0 [3392/8005 (42%)]\tLoss: 0.000603\n",
      "Train Epoch: 0 [3456/8005 (43%)]\tLoss: 0.000567\n",
      "Train Epoch: 0 [3520/8005 (44%)]\tLoss: 0.000237\n",
      "Train Epoch: 0 [3584/8005 (44%)]\tLoss: 0.000302\n",
      "Train Epoch: 0 [3648/8005 (45%)]\tLoss: 0.000466\n",
      "Train Epoch: 0 [3712/8005 (46%)]\tLoss: 0.000262\n",
      "Train Epoch: 0 [3776/8005 (47%)]\tLoss: 0.000333\n",
      "Train Epoch: 0 [3904/8005 (48%)]\tLoss: 0.000364\n",
      "Train Epoch: 0 [3968/8005 (49%)]\tLoss: 0.000490\n",
      "Train Epoch: 0 [4032/8005 (50%)]\tLoss: 0.000332\n",
      "Train Epoch: 0 [4096/8005 (51%)]\tLoss: 0.000340\n",
      "Train Epoch: 0 [4160/8005 (52%)]\tLoss: 0.000340\n",
      "Train Epoch: 0 [4224/8005 (52%)]\tLoss: 0.000249\n",
      "Train Epoch: 0 [4288/8005 (53%)]\tLoss: 0.000372\n",
      "Train Epoch: 0 [4352/8005 (54%)]\tLoss: 0.000381\n",
      "Train Epoch: 0 [4416/8005 (55%)]\tLoss: 0.000396\n",
      "Train Epoch: 0 [4544/8005 (56%)]\tLoss: 0.000394\n",
      "Train Epoch: 0 [4608/8005 (57%)]\tLoss: 0.000467\n",
      "Train Epoch: 0 [4672/8005 (58%)]\tLoss: 0.000256\n",
      "Train Epoch: 0 [4736/8005 (59%)]\tLoss: 0.000310\n",
      "Train Epoch: 0 [4800/8005 (60%)]\tLoss: 0.000447\n",
      "Train Epoch: 0 [4864/8005 (60%)]\tLoss: 0.000387\n",
      "Train Epoch: 0 [4928/8005 (61%)]\tLoss: 0.000165\n",
      "Train Epoch: 0 [4992/8005 (62%)]\tLoss: 0.000236\n",
      "Train Epoch: 0 [5056/8005 (63%)]\tLoss: 0.000283\n",
      "Train Epoch: 0 [5184/8005 (64%)]\tLoss: 0.000261\n",
      "Train Epoch: 0 [5248/8005 (65%)]\tLoss: 0.000340\n",
      "Train Epoch: 0 [5312/8005 (66%)]\tLoss: 0.000318\n",
      "Train Epoch: 0 [5376/8005 (67%)]\tLoss: 0.000238\n",
      "Train Epoch: 0 [5440/8005 (67%)]\tLoss: 0.000191\n",
      "Train Epoch: 0 [5504/8005 (68%)]\tLoss: 0.000414\n",
      "Train Epoch: 0 [5568/8005 (69%)]\tLoss: 0.000224\n",
      "Train Epoch: 0 [5632/8005 (70%)]\tLoss: 0.000271\n",
      "Train Epoch: 0 [5696/8005 (71%)]\tLoss: 0.000276\n",
      "Train Epoch: 0 [5824/8005 (72%)]\tLoss: 0.000131\n",
      "Train Epoch: 0 [5888/8005 (73%)]\tLoss: 0.000145\n",
      "Train Epoch: 0 [5952/8005 (74%)]\tLoss: 0.000186\n",
      "Train Epoch: 0 [6016/8005 (75%)]\tLoss: 0.000095\n",
      "Train Epoch: 0 [6080/8005 (75%)]\tLoss: 0.000220\n",
      "Train Epoch: 0 [6144/8005 (76%)]\tLoss: 0.000183\n",
      "Train Epoch: 0 [6208/8005 (77%)]\tLoss: 0.000176\n",
      "Train Epoch: 0 [6272/8005 (78%)]\tLoss: 0.000237\n",
      "Train Epoch: 0 [6336/8005 (79%)]\tLoss: 0.000316\n",
      "Train Epoch: 0 [6464/8005 (80%)]\tLoss: 0.000331\n",
      "Train Epoch: 0 [6528/8005 (81%)]\tLoss: 0.000090\n",
      "Train Epoch: 0 [6592/8005 (82%)]\tLoss: 0.000147\n",
      "Train Epoch: 0 [6656/8005 (83%)]\tLoss: 0.000295\n",
      "Train Epoch: 0 [6720/8005 (83%)]\tLoss: 0.000204\n",
      "Train Epoch: 0 [6784/8005 (84%)]\tLoss: 0.000413\n",
      "Train Epoch: 0 [6848/8005 (85%)]\tLoss: 0.000084\n",
      "Train Epoch: 0 [6912/8005 (86%)]\tLoss: 0.000166\n",
      "Train Epoch: 0 [6976/8005 (87%)]\tLoss: 0.000226\n",
      "Train Epoch: 0 [7104/8005 (88%)]\tLoss: 0.000098\n",
      "Train Epoch: 0 [7168/8005 (89%)]\tLoss: 0.000248\n",
      "Train Epoch: 0 [7232/8005 (90%)]\tLoss: 0.000208\n",
      "Train Epoch: 0 [7296/8005 (90%)]\tLoss: 0.000192\n",
      "Train Epoch: 0 [7360/8005 (91%)]\tLoss: 0.000359\n",
      "Train Epoch: 0 [7424/8005 (92%)]\tLoss: 0.000125\n",
      "Train Epoch: 0 [7488/8005 (93%)]\tLoss: 0.000189\n",
      "Train Epoch: 0 [7552/8005 (94%)]\tLoss: 0.000158\n",
      "Train Epoch: 0 [7616/8005 (94%)]\tLoss: 0.000126\n",
      "Train Epoch: 0 [7744/8005 (96%)]\tLoss: 0.000201\n",
      "Train Epoch: 0 [7808/8005 (97%)]\tLoss: 0.000345\n",
      "Train Epoch: 0 [7872/8005 (98%)]\tLoss: 0.000136\n",
      "Train Epoch: 0 [7936/8005 (98%)]\tLoss: 0.000254\n",
      "Train Epoch: 0 [625/8005 (99%)]\tLoss: 0.000022\n",
      "\n",
      "Test set: Average loss: 0.0002, Accuracy: 2023/2023 (100%)\n",
      "\n"
     ]
    }
   ],
   "source": [
    "#function to count number of parameters\n",
    "def get_n_params(model):\n",
    "    np=0\n",
    "    for p in list(model.parameters()):\n",
    "        np += p.nelement()\n",
    "    return np\n",
    "\n",
    "input_size  = 224*224*3   # images are 224*224 pixels and has 3 channels because of RGB color\n",
    "output_size = 2      # there are 2 classes---Cat and dog\n",
    "\n",
    "# Training settings  for model 1\n",
    "n_features = 2 # hyperparameter\n",
    "\n",
    "model_cnn1 = CNN_1(input_size, n_features, output_size)\n",
    "optimizer = optim.SGD(model_cnn1.parameters(), lr=0.01, momentum=0.5)\n",
    "print('Number of parameters: {}'.format(get_n_params(model_cnn1)))\n",
    "\n",
    "#for epoch in range(0, 1):\n",
    " #   train(epoch, model_cnn1)\n",
    "  #  test(model_cnn1)\n",
    "\n",
    "\n",
    "# Training settings for model 2\n",
    "n_features = 6 # hyperparameter\n",
    "model_cnn2 = CNN_2(input_size, n_features, output_size)\n",
    "optimizer = optim.SGD(model_cnn2.parameters(), lr=0.01, momentum=0.5)\n",
    "print('Number of parameters: {}'.format(get_n_params(model_cnn2)))\n",
    "\n",
    "for epoch in range(0, 1):\n",
    "    train(epoch, model_cnn2)\n",
    "    test(model_cnn2)"
   ]
  },
  {
   "cell_type": "code",
   "execution_count": 14,
   "metadata": {},
   "outputs": [],
   "source": [
    "torch.save(model_cnn2.state_dict(), 'dogcatwights.pth')"
   ]
  },
  {
   "cell_type": "code",
   "execution_count": 20,
   "metadata": {},
   "outputs": [
    {
     "data": {
      "text/plain": [
       "CNN_2(\n",
       "  (conv1): Conv2d(3, 32, kernel_size=(5, 5), stride=(1, 1))\n",
       "  (conv2): Conv2d(32, 64, kernel_size=(5, 5), stride=(1, 1))\n",
       "  (conv3): Conv2d(64, 128, kernel_size=(5, 5), stride=(1, 1))\n",
       "  (conv4): Conv2d(128, 128, kernel_size=(5, 5), stride=(1, 1))\n",
       "  (fc1): Linear(in_features=12800, out_features=50, bias=True)\n",
       "  (fc2): Linear(in_features=50, out_features=2, bias=True)\n",
       ")"
      ]
     },
     "execution_count": 20,
     "metadata": {},
     "output_type": "execute_result"
    }
   ],
   "source": [
    "#model.load_state_dict(torch.load('checkpoint/epoch60_93.pt', map_location='cpu'))\n",
    "model_cnn2.eval()"
   ]
  },
  {
   "cell_type": "code",
   "execution_count": 21,
   "metadata": {},
   "outputs": [],
   "source": [
    "output = model_cnn2(list(test_loader)[0][0])"
   ]
  },
  {
   "cell_type": "code",
   "execution_count": 22,
   "metadata": {},
   "outputs": [],
   "source": [
    "_, predicted = torch.max(output, 1)"
   ]
  },
  {
   "cell_type": "code",
   "execution_count": 23,
   "metadata": {},
   "outputs": [
    {
     "name": "stdout",
     "output_type": "stream",
     "text": [
      "cat\n"
     ]
    }
   ],
   "source": [
    "if predicted[0].numpy() == 1:\n",
    "    print(\"dog\")\n",
    "else:\n",
    "    print(\"cat\")"
   ]
  },
  {
   "cell_type": "code",
   "execution_count": null,
   "metadata": {},
   "outputs": [],
   "source": []
  }
 ],
 "metadata": {
  "kernelspec": {
   "display_name": "Python 3",
   "language": "python",
   "name": "python3"
  },
  "language_info": {
   "codemirror_mode": {
    "name": "ipython",
    "version": 3
   },
   "file_extension": ".py",
   "mimetype": "text/x-python",
   "name": "python",
   "nbconvert_exporter": "python",
   "pygments_lexer": "ipython3",
   "version": "3.8.5"
  }
 },
 "nbformat": 4,
 "nbformat_minor": 4
}
