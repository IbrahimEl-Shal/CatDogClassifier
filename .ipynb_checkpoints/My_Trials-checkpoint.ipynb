{
 "cells": [
  {
   "cell_type": "code",
   "execution_count": 1,
   "metadata": {},
   "outputs": [],
   "source": [
    "import pandas as pd\n",
    "import os \n",
    "import torch"
   ]
  },
  {
   "cell_type": "code",
   "execution_count": 2,
   "metadata": {},
   "outputs": [],
   "source": [
    "import torchvision.transforms as transforms"
   ]
  },
  {
   "cell_type": "code",
   "execution_count": 3,
   "metadata": {},
   "outputs": [],
   "source": [
    "import torchvision.datasets as datasets"
   ]
  },
  {
   "cell_type": "code",
   "execution_count": 4,
   "metadata": {},
   "outputs": [],
   "source": [
    "# number of subprocesses to use for data loading\n",
    "num_workers = 0\n",
    "# how many samples per batch to load\n",
    "batch_size = 64"
   ]
  },
  {
   "cell_type": "code",
   "execution_count": 5,
   "metadata": {},
   "outputs": [],
   "source": [
    "# define training and test data directories\n",
    "\n",
    "train_dir = 'C:/Users/ihelshal/Documents/Python Scripts/CatDogClassifier/Data/training_set/'\n",
    "test_dir = 'C:/Users/ihelshal/Documents/Python Scripts/CatDogClassifier/Data/test_set/'\n",
    "\n",
    "#create transformers\n",
    "image_size = (224, 224)\n",
    "mean = [0.485, 0.456, 0.406]\n",
    "std  = [0.229, 0.224, 0.225]\n",
    "train_transform = transforms.Compose([\n",
    "                                transforms.Resize(image_size), \n",
    "                                                    transforms.ToTensor(), \n",
    "                                transforms.Normalize(mean, std)])\n",
    "test_transforms = transforms.Compose([\n",
    "                                transforms.Resize(image_size), \n",
    "                                transforms.ToTensor(), \n",
    "                                transforms.Normalize(mean, std)])\n",
    "\n",
    "\n",
    " ## read data set using the custom class\n",
    "train_dataset = datasets.ImageFolder(root=train_dir, transform=train_transform)\n",
    "dev_dataset = datasets.ImageFolder(root=test_dir, transform=test_transforms)\n",
    "train_loader = torch.utils.data.DataLoader(train_dataset, batch_size, shuffle=True, num_workers=num_workers)\n",
    "test_loader = torch.utils.data.DataLoader(dev_dataset, 1, shuffle=False)\n"
   ]
  },
  {
   "cell_type": "code",
   "execution_count": 6,
   "metadata": {},
   "outputs": [
    {
     "name": "stdout",
     "output_type": "stream",
     "text": [
      "training Dataset = 8005\n",
      "Testing Dataset = 2023\n"
     ]
    }
   ],
   "source": [
    "print('training Dataset =',len(train_dataset))\n",
    "print('Testing Dataset =',len(dev_dataset))"
   ]
  },
  {
   "cell_type": "code",
   "execution_count": 7,
   "metadata": {},
   "outputs": [
    {
     "ename": "TypeError",
     "evalue": "'DataLoader' object is not subscriptable",
     "output_type": "error",
     "traceback": [
      "\u001b[1;31m---------------------------------------------------------------------------\u001b[0m",
      "\u001b[1;31mTypeError\u001b[0m                                 Traceback (most recent call last)",
      "\u001b[1;32m<ipython-input-7-e2ab3ea573f3>\u001b[0m in \u001b[0;36m<module>\u001b[1;34m\u001b[0m\n\u001b[1;32m----> 1\u001b[1;33m \u001b[0mtrain_loader\u001b[0m\u001b[1;33m[\u001b[0m\u001b[1;36m0\u001b[0m\u001b[1;33m]\u001b[0m\u001b[1;33m\u001b[0m\u001b[1;33m\u001b[0m\u001b[0m\n\u001b[0m",
      "\u001b[1;31mTypeError\u001b[0m: 'DataLoader' object is not subscriptable"
     ]
    }
   ],
   "source": [
    "train_loader[0]"
   ]
  },
  {
   "cell_type": "code",
   "execution_count": 8,
   "metadata": {},
   "outputs": [],
   "source": [
    "import sys\n",
    "#for batch_idx, (data, target) in enumerate(train_dataloader):\n",
    "#    print(target)\n",
    "#    if(batch_idx == 0):\n",
    "#        sys.exit(\"Age less than 18\")    \n",
    "    "
   ]
  },
  {
   "cell_type": "code",
   "execution_count": 9,
   "metadata": {},
   "outputs": [],
   "source": [
    "import os\n",
    "import torch\n",
    "import torch.nn as nn\n",
    "import torch.nn.functional as F\n",
    "import torch.optim as optim\n",
    "from torchvision import datasets, transforms\n",
    "import matplotlib.pyplot as plt\n",
    "import numpy\n",
    "from torch.utils.data import Dataset, DataLoader\n",
    "import glob\n",
    "from PIL import Image"
   ]
  },
  {
   "cell_type": "code",
   "execution_count": 10,
   "metadata": {},
   "outputs": [],
   "source": [
    "\n",
    "class CNN_1(nn.Module):\n",
    "    def __init__(self, input_size, n_feature, output_size):\n",
    "        super(CNN_1, self).__init__()\n",
    "        self.n_feature = n_feature\n",
    "        self.conv1 = nn.Conv2d(in_channels=3, out_channels=n_feature, kernel_size=5)\n",
    "        self.conv2 = nn.Conv2d(n_feature, n_feature, kernel_size=5)\n",
    "        self.fc1 = nn.Linear(n_feature*53*53, 50)\n",
    "        self.fc2 = nn.Linear(50, 10)\n",
    "        \n",
    "    def forward(self, x, verbose=False):\n",
    "        x = self.conv1(x)\n",
    "        x = F.relu(x)\n",
    "        x = F.max_pool2d(x, kernel_size=2)\n",
    "        x = self.conv2(x)\n",
    "        x = F.relu(x)\n",
    "        x = F.max_pool2d(x, kernel_size=2)\n",
    "        x = x.view(-1, self.n_feature*53*53)\n",
    "        x = self.fc1(x)\n",
    "        x = F.relu(x)\n",
    "        x = self.fc2(x)\n",
    "        x = F.log_softmax(x, dim=1)\n",
    "        return x\n",
    "\n",
    "class CNN_2(nn.Module):\n",
    "    def __init__(self, input_size, n_feature, output_size):\n",
    "        super(CNN_2, self).__init__()\n",
    "        self.n_feature = n_feature\n",
    "        self.conv1 = nn.Conv2d(in_channels=3, out_channels=32, kernel_size=5)\n",
    "        self.conv2 = nn.Conv2d(32, 64, kernel_size=5)\n",
    "        self.conv3 = nn.Conv2d(64, 128, kernel_size=5)\n",
    "        self.conv4 = nn.Conv2d(128, 128, kernel_size=5)\n",
    "        self.fc1 = nn.Linear(128*10*10, 50)\n",
    "        self.fc2 = nn.Linear(50, 2)\n",
    "       \n",
    "    def forward(self, x, verbose=False):\n",
    "        x = self.conv1(x)\n",
    "        x = F.relu(x)\n",
    "        x = F.max_pool2d(x, kernel_size=2)\n",
    "        x = self.conv2(x)\n",
    "        x = F.relu(x)\n",
    "        x = F.max_pool2d(x, kernel_size=2)\n",
    "        x = self.conv3(x)\n",
    "        x = F.relu(x)\n",
    "        x = F.max_pool2d(x, kernel_size=2)\n",
    "        x = self.conv4(x)\n",
    "        x = F.relu(x)\n",
    "        x = F.max_pool2d(x, kernel_size=2)       \n",
    "        x = x.view(-1, 128*10*10)\n",
    "        x = self.fc1(x)\n",
    "        x = F.relu(x)\n",
    "        x = self.fc2(x)\n",
    "        x = F.log_softmax(x, dim=1)\n",
    "        return x"
   ]
  },
  {
   "cell_type": "code",
   "execution_count": 11,
   "metadata": {},
   "outputs": [],
   "source": [
    "\n",
    "accuracy_list = []\n",
    "\n",
    "def train(epoch, model):\n",
    "    model.train()\n",
    "    for batch_idx, (data, target) in enumerate(train_loader):\n",
    "        \n",
    "        #print(data[0].shape)\n",
    "        optimizer.zero_grad()\n",
    "        output = model(data)\n",
    "        loss = F.nll_loss(output, target)\n",
    "        loss.backward()\n",
    "        optimizer.step()\n",
    "        if (batch_idx % 10 and  batch_idx >5):\n",
    "            print('Train Epoch: {} [{}/{} ({:.0f}%)]\\tLoss: {:.6f}'.format(\n",
    "                epoch, batch_idx * len(data), len(train_loader.dataset),\n",
    "                100. * batch_idx / len(train_loader), loss.item()))\n",
    "            \n",
    "def test(model):\n",
    "    model.eval()\n",
    "    test_loss = 0\n",
    "    correct = 0\n",
    "    for data, target in test_loader:\n",
    "        \n",
    "        output = model(data)\n",
    "        test_loss += F.nll_loss(output, target, reduction='sum').item() # sum up batch loss                                                               \n",
    "        pred = output.data.max(1, keepdim=True)[1] # get the index of the max log-probability                                                                 \n",
    "        correct += pred.eq(target.data.view_as(pred)).cpu().sum().item()\n",
    "\n",
    "    test_loss /= len(test_loader.dataset)\n",
    "    accuracy = 100. * correct / len(test_loader.dataset)\n",
    "    accuracy_list.append(accuracy)\n",
    "    print('\\nTest set: Average loss: {:.4f}, Accuracy: {}/{} ({:.0f}%)\\n'.format(\n",
    "        test_loss, correct, len(test_loader.dataset),\n",
    "        accuracy))\n"
   ]
  },
  {
   "cell_type": "code",
   "execution_count": 14,
   "metadata": {},
   "outputs": [
    {
     "name": "stdout",
     "output_type": "stream",
     "text": [
      "Number of parameters: 281714\n",
      "Train Epoch: 0 [384/8005 (5%)]\tLoss: 0.080004\n",
      "Train Epoch: 0 [448/8005 (6%)]\tLoss: 0.037857\n",
      "Train Epoch: 0 [512/8005 (6%)]\tLoss: 0.045717\n",
      "Train Epoch: 0 [576/8005 (7%)]\tLoss: 0.019220\n",
      "Train Epoch: 0 [704/8005 (9%)]\tLoss: 0.005974\n",
      "Train Epoch: 0 [768/8005 (10%)]\tLoss: 0.000418\n",
      "Train Epoch: 0 [832/8005 (10%)]\tLoss: 0.019255\n",
      "Train Epoch: 0 [896/8005 (11%)]\tLoss: 0.000868\n",
      "Train Epoch: 0 [960/8005 (12%)]\tLoss: 0.001800\n",
      "Train Epoch: 0 [1024/8005 (13%)]\tLoss: 0.010720\n",
      "Train Epoch: 0 [1088/8005 (13%)]\tLoss: 0.002687\n",
      "Train Epoch: 0 [1152/8005 (14%)]\tLoss: 0.000536\n",
      "Train Epoch: 0 [1216/8005 (15%)]\tLoss: 0.000507\n",
      "Train Epoch: 0 [1344/8005 (17%)]\tLoss: 0.012436\n",
      "Train Epoch: 0 [1408/8005 (17%)]\tLoss: 0.013339\n",
      "Train Epoch: 0 [1472/8005 (18%)]\tLoss: 0.018112\n",
      "Train Epoch: 0 [1536/8005 (19%)]\tLoss: 0.012603\n",
      "Train Epoch: 0 [1600/8005 (20%)]\tLoss: 0.002925\n",
      "Train Epoch: 0 [1664/8005 (21%)]\tLoss: 0.003082\n",
      "Train Epoch: 0 [1728/8005 (21%)]\tLoss: 0.002925\n",
      "Train Epoch: 0 [1792/8005 (22%)]\tLoss: 0.009581\n",
      "Train Epoch: 0 [1856/8005 (23%)]\tLoss: 0.005640\n",
      "Train Epoch: 0 [1984/8005 (25%)]\tLoss: 0.000192\n",
      "Train Epoch: 0 [2048/8005 (25%)]\tLoss: 0.001240\n",
      "Train Epoch: 0 [2112/8005 (26%)]\tLoss: 0.003720\n",
      "Train Epoch: 0 [2176/8005 (27%)]\tLoss: 0.002766\n",
      "Train Epoch: 0 [2240/8005 (28%)]\tLoss: 0.017630\n",
      "Train Epoch: 0 [2304/8005 (29%)]\tLoss: 0.000743\n",
      "Train Epoch: 0 [2368/8005 (29%)]\tLoss: 0.004814\n",
      "Train Epoch: 0 [2432/8005 (30%)]\tLoss: 0.007418\n",
      "Train Epoch: 0 [2496/8005 (31%)]\tLoss: 0.011684\n",
      "Train Epoch: 0 [2624/8005 (33%)]\tLoss: 0.001553\n",
      "Train Epoch: 0 [2688/8005 (33%)]\tLoss: 0.003457\n",
      "Train Epoch: 0 [2752/8005 (34%)]\tLoss: 0.002387\n",
      "Train Epoch: 0 [2816/8005 (35%)]\tLoss: 0.000609\n",
      "Train Epoch: 0 [2880/8005 (36%)]\tLoss: 0.003462\n",
      "Train Epoch: 0 [2944/8005 (37%)]\tLoss: 0.012389\n",
      "Train Epoch: 0 [3008/8005 (37%)]\tLoss: 0.001042\n",
      "Train Epoch: 0 [3072/8005 (38%)]\tLoss: 0.000035\n",
      "Train Epoch: 0 [3136/8005 (39%)]\tLoss: 0.002808\n",
      "Train Epoch: 0 [3264/8005 (40%)]\tLoss: 0.000018\n",
      "Train Epoch: 0 [3328/8005 (41%)]\tLoss: 0.003311\n",
      "Train Epoch: 0 [3392/8005 (42%)]\tLoss: 0.013339\n",
      "Train Epoch: 0 [3456/8005 (43%)]\tLoss: 0.000535\n",
      "Train Epoch: 0 [3520/8005 (44%)]\tLoss: 0.000022\n",
      "Train Epoch: 0 [3584/8005 (44%)]\tLoss: 0.001736\n",
      "Train Epoch: 0 [3648/8005 (45%)]\tLoss: 0.007512\n",
      "Train Epoch: 0 [3712/8005 (46%)]\tLoss: 0.002838\n",
      "Train Epoch: 0 [3776/8005 (47%)]\tLoss: 0.007995\n",
      "Train Epoch: 0 [3904/8005 (48%)]\tLoss: 0.001720\n",
      "Train Epoch: 0 [3968/8005 (49%)]\tLoss: 0.000216\n",
      "Train Epoch: 0 [4032/8005 (50%)]\tLoss: 0.002677\n",
      "Train Epoch: 0 [4096/8005 (51%)]\tLoss: 0.001142\n",
      "Train Epoch: 0 [4160/8005 (52%)]\tLoss: 0.000001\n",
      "Train Epoch: 0 [4224/8005 (52%)]\tLoss: 0.002499\n",
      "Train Epoch: 0 [4288/8005 (53%)]\tLoss: 0.008571\n",
      "Train Epoch: 0 [4352/8005 (54%)]\tLoss: 0.000026\n",
      "Train Epoch: 0 [4416/8005 (55%)]\tLoss: 0.001524\n",
      "Train Epoch: 0 [4544/8005 (56%)]\tLoss: 0.004745\n",
      "Train Epoch: 0 [4608/8005 (57%)]\tLoss: 0.000434\n",
      "Train Epoch: 0 [4672/8005 (58%)]\tLoss: 0.001061\n",
      "Train Epoch: 0 [4736/8005 (59%)]\tLoss: 0.001219\n",
      "Train Epoch: 0 [4800/8005 (60%)]\tLoss: 0.001291\n",
      "Train Epoch: 0 [4864/8005 (60%)]\tLoss: 0.001600\n",
      "Train Epoch: 0 [4928/8005 (61%)]\tLoss: 0.013424\n",
      "Train Epoch: 0 [4992/8005 (62%)]\tLoss: 0.007377\n",
      "Train Epoch: 0 [5056/8005 (63%)]\tLoss: 0.000348\n",
      "Train Epoch: 0 [5184/8005 (64%)]\tLoss: 0.006180\n",
      "Train Epoch: 0 [5248/8005 (65%)]\tLoss: 0.000799\n",
      "Train Epoch: 0 [5312/8005 (66%)]\tLoss: 0.004688\n",
      "Train Epoch: 0 [5376/8005 (67%)]\tLoss: 0.000168\n",
      "Train Epoch: 0 [5440/8005 (67%)]\tLoss: 0.000280\n",
      "Train Epoch: 0 [5504/8005 (68%)]\tLoss: 0.000029\n",
      "Train Epoch: 0 [5568/8005 (69%)]\tLoss: 0.000010\n",
      "Train Epoch: 0 [5632/8005 (70%)]\tLoss: 0.000795\n",
      "Train Epoch: 0 [5696/8005 (71%)]\tLoss: 0.001210\n",
      "Train Epoch: 0 [5824/8005 (72%)]\tLoss: 0.000005\n",
      "Train Epoch: 0 [5888/8005 (73%)]\tLoss: 0.001912\n",
      "Train Epoch: 0 [5952/8005 (74%)]\tLoss: 0.005505\n",
      "Train Epoch: 0 [6016/8005 (75%)]\tLoss: 0.006995\n",
      "Train Epoch: 0 [6080/8005 (75%)]\tLoss: 0.003212\n",
      "Train Epoch: 0 [6144/8005 (76%)]\tLoss: 0.001883\n",
      "Train Epoch: 0 [6208/8005 (77%)]\tLoss: 0.004504\n",
      "Train Epoch: 0 [6272/8005 (78%)]\tLoss: 0.002624\n",
      "Train Epoch: 0 [6336/8005 (79%)]\tLoss: 0.000093\n",
      "Train Epoch: 0 [6464/8005 (80%)]\tLoss: 0.000001\n",
      "Train Epoch: 0 [6528/8005 (81%)]\tLoss: 0.000711\n",
      "Train Epoch: 0 [6592/8005 (82%)]\tLoss: 0.000203\n",
      "Train Epoch: 0 [6656/8005 (83%)]\tLoss: 0.000329\n",
      "Train Epoch: 0 [6720/8005 (83%)]\tLoss: 0.000100\n",
      "Train Epoch: 0 [6784/8005 (84%)]\tLoss: 0.000929\n",
      "Train Epoch: 0 [6848/8005 (85%)]\tLoss: 0.003878\n",
      "Train Epoch: 0 [6912/8005 (86%)]\tLoss: 0.000004\n",
      "Train Epoch: 0 [6976/8005 (87%)]\tLoss: 0.000916\n",
      "Train Epoch: 0 [7104/8005 (88%)]\tLoss: 0.000405\n",
      "Train Epoch: 0 [7168/8005 (89%)]\tLoss: 0.002925\n",
      "Train Epoch: 0 [7232/8005 (90%)]\tLoss: 0.001646\n",
      "Train Epoch: 0 [7296/8005 (90%)]\tLoss: 0.001936\n",
      "Train Epoch: 0 [7360/8005 (91%)]\tLoss: 0.001021\n",
      "Train Epoch: 0 [7424/8005 (92%)]\tLoss: 0.000939\n",
      "Train Epoch: 0 [7488/8005 (93%)]\tLoss: 0.000001\n",
      "Train Epoch: 0 [7552/8005 (94%)]\tLoss: 0.004464\n",
      "Train Epoch: 0 [7616/8005 (94%)]\tLoss: 0.001171\n",
      "Train Epoch: 0 [7744/8005 (96%)]\tLoss: 0.007624\n",
      "Train Epoch: 0 [7808/8005 (97%)]\tLoss: 0.001298\n",
      "Train Epoch: 0 [7872/8005 (98%)]\tLoss: 0.000140\n",
      "Train Epoch: 0 [7936/8005 (98%)]\tLoss: 0.004282\n",
      "Train Epoch: 0 [625/8005 (99%)]\tLoss: 0.000001\n",
      "\n",
      "Test set: Average loss: 0.0011, Accuracy: 2023/2023 (100%)\n",
      "\n"
     ]
    }
   ],
   "source": [
    "#function to count number of parameters\n",
    "def get_n_params(model):\n",
    "    np=0\n",
    "    for p in list(model.parameters()):\n",
    "        np += p.nelement()\n",
    "    return np\n",
    "\n",
    "input_size  = 224*224*3   # images are 224*224 pixels and has 3 channels because of RGB color\n",
    "output_size = 2      # there are 2 classes---Cat and dog\n",
    "\n",
    "# Training settings  for model 1\n",
    "n_features = 2 # hyperparameter\n",
    "\n",
    "model_cnn1 = CNN_1(input_size, n_features, output_size)\n",
    "optimizer = optim.SGD(model_cnn1.parameters(), lr=0.01, momentum=0.5)\n",
    "print('Number of parameters: {}'.format(get_n_params(model_cnn1)))\n",
    "\n",
    "for epoch in range(0, 1):\n",
    "    train(epoch, model_cnn1)\n",
    "    test(model_cnn1)\n",
    "\n",
    "\n",
    "# Training settings for model 2\n",
    "#n_features = 6 # hyperparameter\n",
    "#model_cnn2 = CNN_2(input_size, n_features, output_size)\n",
    "#optimizer = optim.SGD(model_cnn2.parameters(), lr=0.01, momentum=0.5)\n",
    "#print('Number of parameters: {}'.format(get_n_params(model_cnn2)))\n",
    "\n",
    "#for epoch in range(0, 1):\n",
    "#    train(epoch, model_cnn2)\n",
    "#    test(model_cnn2)"
   ]
  },
  {
   "cell_type": "code",
   "execution_count": null,
   "metadata": {},
   "outputs": [],
   "source": [
    "torch.save(model_cnn2.state_dict(), 'dogcatwights.pth')"
   ]
  },
  {
   "cell_type": "code",
   "execution_count": 27,
   "metadata": {},
   "outputs": [
    {
     "data": {
      "text/plain": [
       "CNN_1(\n",
       "  (conv1): Conv2d(3, 2, kernel_size=(5, 5), stride=(1, 1))\n",
       "  (conv2): Conv2d(2, 2, kernel_size=(5, 5), stride=(1, 1))\n",
       "  (fc1): Linear(in_features=5618, out_features=50, bias=True)\n",
       "  (fc2): Linear(in_features=50, out_features=10, bias=True)\n",
       ")"
      ]
     },
     "execution_count": 27,
     "metadata": {},
     "output_type": "execute_result"
    }
   ],
   "source": [
    "#model.load_state_dict(torch.load('checkpoint/epoch60_93.pt', map_location='cpu'))\n",
    "model_cnn1.eval()"
   ]
  },
  {
   "cell_type": "code",
   "execution_count": 16,
   "metadata": {},
   "outputs": [],
   "source": [
    "output = model_cnn1(list(test_loader)[0][0])"
   ]
  },
  {
   "cell_type": "code",
   "execution_count": null,
   "metadata": {},
   "outputs": [],
   "source": [
    "_, predicted = torch.max(output, 1)"
   ]
  },
  {
   "cell_type": "code",
   "execution_count": null,
   "metadata": {},
   "outputs": [],
   "source": [
    "if predicted[0].numpy() == 1:\n",
    "    print(\"dog\")\n",
    "else:\n",
    "    print(\"cat\")"
   ]
  },
  {
   "cell_type": "code",
   "execution_count": 30,
   "metadata": {},
   "outputs": [],
   "source": [
    "import torch\n",
    "#from utils.helpers import *\n",
    "import warnings\n",
    "from PIL import Image\n",
    "from torchvision import transforms\n",
    "#from torchsummary import summary\n",
    "\n",
    "def image_transform(imagepath):\n",
    "    test_transforms = transforms.Compose([\n",
    "                                transforms.Resize(image_size), \n",
    "                                transforms.ToTensor(), \n",
    "                                transforms.Normalize(mean, std)])\n",
    "\n",
    "    \n",
    "    image = Image.open(imagepath)\n",
    "    imagetensor = test_transforms(image)\n",
    "    return imagetensor\n",
    "\n",
    "\n",
    "def predict(imagepath, verbose=False):\n",
    "    if not verbose:\n",
    "        warnings.filterwarnings('ignore')\n",
    "    #model_path = './Output/dogcatwights.pth'\n",
    "    #try:\n",
    "        #checks_if_model_is_loaded = type(model)\n",
    "    #except:\n",
    "        #model = model_cnn1.load_state_dict(torch.load('Output/dogcatwights.pth', map_location='cpu'))\n",
    "    model_cnn1.eval()\n",
    "\n",
    "    if verbose:\n",
    "        print(\"Model Loaded..\")\n",
    "    image = image_transform(imagepath)\n",
    "    image1 = image[None,:,:,:]\n",
    "    ps=torch.exp(model_cnn1(image1))\n",
    "    topconf, topclass = ps.topk(1, dim=1)\n",
    "    if topclass.item() == 1:\n",
    "        return {'class':'dog','confidence':str(topconf.item())}\n",
    "    else:\n",
    "        return {'class':'cat','confidence':str(topconf.item())}"
   ]
  },
  {
   "cell_type": "code",
   "execution_count": 36,
   "metadata": {},
   "outputs": [
    {
     "name": "stdout",
     "output_type": "stream",
     "text": [
      "{'class': 'cat', 'confidence': '1.0'}\n"
     ]
    }
   ],
   "source": [
    "print(predict('Data/TestOne/single/dog.30.jpg'))"
   ]
  },
  {
   "cell_type": "code",
   "execution_count": null,
   "metadata": {},
   "outputs": [],
   "source": []
  }
 ],
 "metadata": {
  "kernelspec": {
   "display_name": "Python 3",
   "language": "python",
   "name": "python3"
  },
  "language_info": {
   "codemirror_mode": {
    "name": "ipython",
    "version": 3
   },
   "file_extension": ".py",
   "mimetype": "text/x-python",
   "name": "python",
   "nbconvert_exporter": "python",
   "pygments_lexer": "ipython3",
   "version": "3.8.5"
  }
 },
 "nbformat": 4,
 "nbformat_minor": 4
}
